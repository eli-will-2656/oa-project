{
 "cells": [
  {
   "cell_type": "markdown",
   "id": "19484bbc",
   "metadata": {},
   "source": [
    "### (0) Importing Modules"
   ]
  },
  {
   "cell_type": "markdown",
   "id": "d5358b61",
   "metadata": {},
   "source": [
    "**Created Modules:**\n",
    "- **`quadrotor.dynamics`** - Python module that contains code that will allow our virtual quadrotor to move based on the forces its experiencing\n",
    "- **`quadrotor.controller`** - Python module that will send commands to the rotors of our virtual quadrotor\n",
    "- **`quadrotor trajectory`** - Python module that keeps track of the trajectory of our quadrotor at a given time\n",
    "\n",
    "**Imported Modules:**\n",
    "- **Numpy** - Numerical python library\n",
    "- **sym** - Python geometry package created by [Skydio](https://github.com/symforce-org/symforce), to help with the mathematics involved in controlling a robot\n",
    "\n",
    " "
   ]
  },
  {
   "cell_type": "code",
   "execution_count": 1,
   "id": "29c98e8e-df0a-4452-8006-d483bbe8c528",
   "metadata": {},
   "outputs": [],
   "source": [
    "# %matplotlib inline"
   ]
  },
  {
   "cell_type": "code",
   "execution_count": 2,
   "id": "bfc79d94-86f6-4ac1-8dbb-8020739506e7",
   "metadata": {},
   "outputs": [],
   "source": [
    "import numpy as np"
   ]
  },
  {
   "cell_type": "code",
   "execution_count": 3,
   "id": "b5a1ddd1-0644-4c4f-afa0-e05f51b5dd8e",
   "metadata": {},
   "outputs": [],
   "source": [
    "from quadrotor.dynamics import QuadrotorDynamicsBase, QuadrotorState\n",
    "from quadrotor.controller import ControllerBase, QuadrotorCommands\n",
    "from quadrotor.trajectory import TrajectoryBase, TrajectoryState"
   ]
  },
  {
   "cell_type": "code",
   "execution_count": 4,
   "id": "edee62a3-a972-4e7a-a641-c2aa02e9b417",
   "metadata": {},
   "outputs": [],
   "source": [
    "from sym import Rot3"
   ]
  },
  {
   "cell_type": "markdown",
   "id": "1e700299",
   "metadata": {},
   "source": [
    "### (1) Simulator architecture"
   ]
  },
  {
   "cell_type": "markdown",
   "id": "2ee5af05-3d91-4082-b1a4-016497230e65",
   "metadata": {},
   "source": [
    "\n",
    "\n",
    "In a nutshell, this is what the simulator architecture looks like. During this project, you'll implement your own versions of the dynamics model (`QuadrotorDynamics`), the controller (`Controller`) and the trajectory generator (`Trajectory`).\n",
    "\n",
    "![title](assets/img/simulator.svg)\n",
    "\n",
    "Note how each of these are separate modules. For reference, this is what a real world scenario would look like:\n",
    "\n",
    "![title](assets/img/irl.svg)\n",
    "\n",
    "Note how in the real world we have to deal with the highly non-trivial problem of **estimating** the vehicle's pose from incomplete and noisy sensor measurements. A Skydio drone uses a combination of IMU (angular velocity and acceleration), barometer (pressure difference with height), camera (feature matching over time) and GPS (if we have enough satelites) to estimate it's pose. We will ignore this (for now, unless you guys are super interested) in this project."
   ]
  },
  {
   "cell_type": "markdown",
   "id": "b2082fa4-dc92-454d-a725-e4bb1df6686c",
   "metadata": {},
   "source": [
    "### (2) The base classes"
   ]
  },
  {
   "cell_type": "markdown",
   "id": "88d01f9c",
   "metadata": {},
   "source": [
    "#### `QuadrotorDynamics`\n",
    "This module implements the dynamics of the quadrotor and does so with a `step` function. This function will simulate the drone's state one time step into the future based on its current state and the forces acting on it.\n",
    "* We will have to solve an 2nd order IVP here! The forces will tell us how the quadrotor is accelerating and current state will be initial condition.\n",
    "\n",
    "##### `QuadrotorState`\n",
    "The `step` function will output a `QuadrotorState` that holds the current state of the vehicle. We will go over this in depth, but in short this holds the quadrotor's position, velocity, orientation (i.e. are we rolled, pitched, yawed) and angular velocity.\n",
    "\n",
    "#### `Controller`\n",
    "This module implements a controller for our quadrotor. It uses a `step` function that takes in the **current** state of the quadrotor (as outputted by the dynamics model) and the **desired** state of the quadrotor (as outputted by the trajectory generator).\n",
    "\n",
    "##### `QuadrotorCommands`\n",
    "The `step` function will output a `QuadrotorCommands` object that holds all of the actuator commands we are supplying, in this case just the four rotor rates. But for e.g. a Skydio drone, you can imagine that there are other things here too, like the motor commands for the gimbal.\n",
    " * Gimbal holds a camera\n",
    "\n",
    "#### `Trajectory`\n",
    "This module implements a trajectory generator for our quadrotor. It uses a `eval` function that takes in the current time to provide this trajectory, but we can make it as complicated as we like. Examples of trajectories could range from something as simple as a 'hover trajectory' (i.e. constant target of 1m height) to a high-level planner (i.e. a Skydio drone has an optimization-based planner that optimizes a trajectory through obstacles based on user input or its autonomous mission).\n",
    "\n",
    "##### `TrajectoryState`\n",
    "The `eval` function will output a `TrajectoryState` objects that holds the desired position and velocity for the controller to follow."
   ]
  },
  {
   "cell_type": "markdown",
   "id": "f96b58ab-1c37-4a6b-b217-d84a707609d5",
   "metadata": {},
   "source": [
    "#### Python class inheritance\n",
    "We will be making use of class inheritance to keep the code relatively general. If you're unfamiliar with python objects/inheritance I highly recommend you to scroll through [this page](https://pynative.com/python-classes-and-objects/)."
   ]
  },
  {
   "cell_type": "markdown",
   "id": "51357a8a-6272-4535-835a-f0036e836ee6",
   "metadata": {},
   "source": [
    "#### Expected code quality standards\n",
    "In an effort to make this project as relevant to industry as possible, the code quality standards will be in line with how one would work on a Python project in industry (of course controllers/planners etc... are often written in compiled languages like C++ or Rust for performance, but Python is still heavily used). This means I expect the following things in your code:\n",
    "- Use clear variable names (I'd rather they're too long but obvious than too short)\n",
    "- Clear comments on any line that you think may be non-trivial to a new reader\n",
    "- Python typing is encouraged!\n",
    "- Keep functions concise and self-contained (i.e. if you find your `step` function in your quadrotor dynamics model become unwieldy, can you split it up in anyway?)\n",
    "\n",
    "We will be using `numpy`, `scipy` and `matplotlib` for linear algebra and plotting."
   ]
  },
  {
   "cell_type": "markdown",
   "id": "e6dd2136-3fef-4624-ae00-a1d8f490b290",
   "metadata": {},
   "source": [
    "### (3) Getting familiar - spoofing and rendering the quadrotor\n",
    "\n",
    "Let's get familiar with each of these classes and how we will be implementing our math. Because we haven't yet written a dynamics model, controller or trajectory generation module (that's your job!) we're going to 'spoof' (i.e. fake) the drone's position.\n",
    "\n",
    "To rephrase: we are not implementing any dynamics/control here! We're just familiarizing ourselves with the existing classes in the repository! Please browse through the repository as you're going through this to figure things out!\n",
    "\n",
    "For this 'spoofing' example, the controller will just output zero, the trajectory generation module will similarly just output zero and the dynamics model will return a constant position as the quadrotor's state (don't worry if the fields in the `QuadrotorState` confuse you, they'll become clear after the next weekly meeting!).\n",
    "\n",
    "I'll provide a simple example to get things started."
   ]
  },
  {
   "cell_type": "code",
   "execution_count": 5,
   "id": "b66a554b-04c7-48c9-be2e-87750a3db939",
   "metadata": {},
   "outputs": [],
   "source": [
    "# Create a controller that inherits from the base class\n",
    "# NOTE(Elijah) Here our virtual drone's rotors are not moving at all, because our virtual controller, our Controller Base is\n",
    "class UselessController(ControllerBase):\n",
    "    # We overwrite the step function so that we just output zero rotor commands for now\n",
    "    def step(self, *args) -> QuadrotorCommands:\n",
    "        rotor_rates = np.zeros(4)\n",
    "        return QuadrotorCommands(rotor_rates)"
   ]
  },
  {
   "cell_type": "code",
   "execution_count": 6,
   "id": "97ab061d-2dd4-45df-be50-6c571dff463d",
   "metadata": {},
   "outputs": [],
   "source": [
    "# NOTE(Elijah) Trajectory, we want to know where our drone is and its velocity at each moment in time.\n",
    "## The Dynamics tells us how our virtual quadrotor moves\n",
    "class UselessTrajectory(TrajectoryBase):\n",
    "    # This is for you to implement!\n",
    "\n",
    "    #NOTE(Elijah) \n",
    "    # INPUTS: Current time\n",
    "    # OUTPUTS: Trajectory State we want our quadrotor to have\n",
    "    def eval(self, t: float) -> TrajectoryState:\n",
    "        \"\"\"Evaluate the trajectory at some time t\"\"\"\n",
    "        origin = np.array([0,0,0])\n",
    "        velocity = np.array([0,0,0])\n",
    "        return TrajectoryState(t, origin, velocity)\n",
    "    pass\n",
    "\n",
    "\n",
    "class SpoofedDynamics(QuadrotorDynamicsBase):\n",
    "    def __init__(self, desired_position: np.ndarray) -> None:\n",
    "        super().__init__()\n",
    "        \n",
    "        \n",
    "    #NOTE(Elijah) \n",
    "        # INPUTS: Current time, rotor commands\n",
    "        # OUTPUTS: State Trajectory will have after a given amount of time\n",
    "    def step(self, t: float, input: QuadrotorCommands) -> QuadrotorState:\n",
    "        origin = np.array([0,0,0])\n",
    "        velocity = np.array([0,0,0])\n",
    "        return QuadrotorState(position=origin)\n",
    "    \n",
    "    pass\n",
    "\n",
    "    # This is for you to implement!\n",
    "    # Make sure you can pass a desired position to this class"
   ]
  },
  {
   "cell_type": "markdown",
   "id": "1b3982a3-e0d9-4b26-aa96-1b4606b7852f",
   "metadata": {},
   "source": [
    "#### Let's run the simulator and render our result!\n",
    "\n",
    "I've provided a `SimulatorBase` class that can use the objects we've just created to run a simulation for some time. I've also provided a (very simple) rendering utility to animate our result"
   ]
  },
  {
   "cell_type": "code",
   "execution_count": 7,
   "id": "918c635e-62c2-40c9-90a8-8ae8404b4f01",
   "metadata": {},
   "outputs": [],
   "source": [
    "from quadrotor.simulator import SimulatorBase, SimulatorState\n",
    "\n",
    "# This might be slow to run the first try!\n",
    "from quadrotor.renderer import animate_k3d, animate_matplotlib"
   ]
  },
  {
   "cell_type": "code",
   "execution_count": 8,
   "id": "e5f427f8-a5cb-450c-b1c7-089f00c009f3",
   "metadata": {},
   "outputs": [],
   "source": [
    "# Make sure to pass this into your function!\n",
    "desired_position = np.random.rand(3)\n",
    "\n",
    "sim = SimulatorBase(\n",
    "    dt=0.01,\n",
    "    dynamics=SpoofedDynamics(desired_position),\n",
    "    controller=UselessController(),\n",
    "    trajectory=UselessTrajectory(),\n",
    "    t_total=10.0,\n",
    ")\n",
    "\n",
    "# Run the simulator\n",
    "output = sim.simulate()"
   ]
  },
  {
   "cell_type": "markdown",
   "id": "08d1430f-eae7-499f-bcc6-988fa1f5823b",
   "metadata": {},
   "source": [
    "#### Renderers\n",
    "I've provided two simple renderers, one that uses `matplotlib` (very common Python plotting library, some of you might be familiar with it) and one that uses `k3d`. I personally think the `k3d` renderer is better in every way and easier to work with and I urge you to use it. But if you strongly prefer `matplotlib` than go for it. Warning, the `matplotlib` renderer uses `FuncAnimation` which gets pretty slow as the number of iterations goes up, if you are aware of better ways of doing it go for it!\n",
    "* `k3d` is a 3d graphics rendering library"
   ]
  },
  {
   "cell_type": "code",
   "execution_count": 9,
   "id": "9207ff9a-4b40-4460-8fd3-1513625eb4a5",
   "metadata": {},
   "outputs": [
    {
     "name": "stderr",
     "output_type": "stream",
     "text": [
      "c:\\Users\\elija\\.virtualenvs\\oa-project-4FWcoYO-\\lib\\site-packages\\traittypes\\traittypes.py:97: UserWarning: Given trait value dtype \"float64\" does not match required type \"float32\". A coerced copy has been created.\n",
      "  warnings.warn(\n"
     ]
    },
    {
     "data": {
      "application/vnd.jupyter.widget-view+json": {
       "model_id": "90ce93359ee84b2cab20fd4ad0e9e8ab",
       "version_major": 2,
       "version_minor": 0
      },
      "text/plain": [
       "Output()"
      ]
     },
     "metadata": {},
     "output_type": "display_data"
    }
   ],
   "source": [
    "# K3D renderer\n",
    "plot = animate_k3d(output)\n",
    "\n",
    "plot.display()\n",
    "plot.start_auto_play()"
   ]
  },
  {
   "cell_type": "markdown",
   "id": "2bb181bc",
   "metadata": {},
   "source": [
    "### (4) Additional Explorations and References"
   ]
  },
  {
   "cell_type": "markdown",
   "id": "e8c383e3",
   "metadata": {},
   "source": [
    "**Dataclass** - Another way to represent an object in using Python code"
   ]
  },
  {
   "cell_type": "code",
   "execution_count": 10,
   "id": "0e3b8bed",
   "metadata": {},
   "outputs": [],
   "source": [
    "from dataclasses import dataclass\n",
    "\n",
    "@dataclass\n",
    "class DataClassCard:\n",
    "    rank: str\n",
    "    suit: str"
   ]
  },
  {
   "cell_type": "code",
   "execution_count": 11,
   "id": "3e4522cc",
   "metadata": {},
   "outputs": [
    {
     "name": "stdout",
     "output_type": "stream",
     "text": [
      "My card is a 10 of Spades!\n"
     ]
    }
   ],
   "source": [
    "my_card = DataClassCard(\"10\", \"Spades\")\n",
    "print(f\"My card is a {my_card.rank} of {my_card.suit}!\")"
   ]
  },
  {
   "cell_type": "markdown",
   "id": "5122cb8e",
   "metadata": {},
   "source": [
    "[**Sym Force Library**](https://symforce.org/tutorials/geometry_tutorial.html)"
   ]
  },
  {
   "cell_type": "markdown",
   "id": "bc102190",
   "metadata": {},
   "source": []
  }
 ],
 "metadata": {
  "kernelspec": {
   "display_name": "Python 3 (ipykernel)",
   "language": "python",
   "name": "python3"
  },
  "language_info": {
   "codemirror_mode": {
    "name": "ipython",
    "version": 3
   },
   "file_extension": ".py",
   "mimetype": "text/x-python",
   "name": "python",
   "nbconvert_exporter": "python",
   "pygments_lexer": "ipython3",
   "version": "3.9.13"
  }
 },
 "nbformat": 4,
 "nbformat_minor": 5
}

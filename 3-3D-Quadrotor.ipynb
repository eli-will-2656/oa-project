{
 "cells": [
  {
   "cell_type": "markdown",
   "id": "3b4a287a",
   "metadata": {},
   "source": [
    "### (0) Import Dependencies"
   ]
  },
  {
   "cell_type": "code",
   "execution_count": 1,
   "id": "abdd7603-fdfc-4bbb-9fb9-fdace98b6ba7",
   "metadata": {},
   "outputs": [],
   "source": [
    "import numpy as np\n",
    "import scipy as sp"
   ]
  },
  {
   "cell_type": "code",
   "execution_count": 2,
   "id": "efd65fdf-e50c-40e2-ae0e-eef3ebbb38ec",
   "metadata": {},
   "outputs": [],
   "source": [
    "from quadrotor.dynamics import QuadrotorDynamicsBase, QuadrotorState\n",
    "from quadrotor.controller import ControllerBase, QuadrotorCommands\n",
    "from quadrotor.trajectory import TrajectoryBase, TrajectoryState"
   ]
  },
  {
   "cell_type": "code",
   "execution_count": 3,
   "id": "9c3c2c23-ffdf-42b3-863b-f389d0e16c91",
   "metadata": {},
   "outputs": [],
   "source": [
    "from sym import Rot3\n",
    "\n",
    "def dRot3(R: Rot3, omega: np.ndarray) -> Rot3:\n",
    "    \"\"\"\n",
    "    NOTE(roy): If interested, we can discuss the math here later. There are other\n",
    "    ways of doing this but to keep the ode_int formulation, we specifically require\n",
    "    dq/dt. Refer to 'Baseile Graf - Quaternions and Dynamics' or (for intuition)\n",
    "    https://math.stackexchange.com/questions/1896379/how-to-use-the-quaternion-derivative\n",
    "    \"\"\"\n",
    "    quat = np.array(R.to_storage())  # Convert to raw quaternion\n",
    "    (q0, q1, q2, q3) = quat  # xyzw storage, see https://symforce.org/api-gen-cpp/class/classsym_1_1Rot3.html\n",
    "\n",
    "    G = np.array([[ q3,  q2, -q1, -q0],\n",
    "                [-q2,  q3,  q0, -q1],\n",
    "                [ q1, -q0,  q3, -q2]])\n",
    "    quat_dot = (G.T @ omega) / 2\n",
    "    return Rot3.from_storage(quat_dot)"
   ]
  },
  {
   "cell_type": "code",
   "execution_count": 4,
   "id": "7ddd1d39",
   "metadata": {},
   "outputs": [],
   "source": [
    "from dataclasses import dataclass, field\n",
    "\n",
    "@dataclass\n",
    "class Params:\n",
    "    \"\"\"A little utility class to hold our quadrotor parameters\"\"\"\n",
    "    mass: float = 1.352  # [kg]\n",
    "\n",
    "    # NOTE(roy) this is a matrix now as discussed!\n",
    "    # NOTE(roy) don't get scared by the field/default_factory thing! It's just a way to do default field initialization for dataclasses,\n",
    "    # see https://docs.python.org/3/library/dataclasses.html. Don't worry about it!\n",
    "    inertia: np.ndarray = field(default_factory=lambda: np.array([\n",
    "        [9.8e-3, 0, 0],\n",
    "        [0, 10.02e-3, 0],\n",
    "        [0, 0, 18.6e-3],\n",
    "    ]))\n",
    "\n",
    "    rotor_diameter: float = 10 * 0.0254  # [m] 10 inches\n",
    "\n",
    "    static_thrust_coefficient: float = 0.14553  # [-] Thrust coefficient\n",
    "    static_torque_coefficient: float = 0.01047  # [-] Torque coefficient\n",
    "\n",
    "    # NOTE(roy) assume this is the same front-to-back and left-to-right\n",
    "    arm_length: float = 0.3814 / 2.0  # [m] Arm length\n",
    "\n",
    "    # Universal constants\n",
    "    g: float = 9.80665  # [m/s2] Gravity\n",
    "    rho: float = 1.225  # [kg/m3] Sea-level density\n",
    "\n",
    "    def rotor_model(self, static_coefficient: float) -> float:\n",
    "        # NOTE(roy) I'm just including this for completeness sake, this means we can e.g. see how air density\n",
    "        # influences our simulation\n",
    "        # Refer to this source for derivation: https://web.mit.edu/16.unified/www/FALL/thermodynamics/notes/node86.html\n",
    "        return self.rho * static_coefficient * (self.rotor_diameter ** 4) / (4 * np.pi ** 2)\n",
    "\n",
    "    # NOTE(roy) if you're unsure what @property decorators do: they make it so that we can call k_thrust as if it was just a class\n",
    "    # variable. I.e. we'd write params.k_thrust now, rather than params.k_thrust()\n",
    "    @property\n",
    "    def k_thrust(self):\n",
    "        return self.rotor_model(self.static_thrust_coefficient)\n",
    "\n",
    "    @property\n",
    "    def k_torque(self):\n",
    "        return self.rotor_model(self.static_torque_coefficient)\n",
    "\n",
    "# Simply treat as a global\n",
    "p = Params()"
   ]
  },
  {
   "cell_type": "markdown",
   "id": "a7544a9b",
   "metadata": {},
   "source": [
    "##### (0.5) Testing"
   ]
  },
  {
   "cell_type": "code",
   "execution_count": 5,
   "id": "e9902755",
   "metadata": {},
   "outputs": [],
   "source": [
    "# # (1) MATRIX MUlTIPLICATION EXAMPLE\n",
    "# L = 1\n",
    "# K = 1\n",
    "# mixing_matrix = np.array([\n",
    "#             [1,1,1,1],\n",
    "#             [0,L,0,-L],\n",
    "#             [-L,0,L,0],\n",
    "#             [K,-K,K,-K]\n",
    "#         ])\n",
    "\n",
    "# V = np.array([1,1,1,1])\n",
    "\n",
    "# X = np.matmul(mixing_matrix,V)\n",
    "# X[0]\n",
    "# X[1:4]\n",
    "# X[0]"
   ]
  },
  {
   "cell_type": "code",
   "execution_count": 6,
   "id": "4cf4aab1",
   "metadata": {},
   "outputs": [],
   "source": [
    "# # (2) ORIENTATION AND ACCELRATION EXAMPLE\n",
    "# X = QuadrotorState([0,0,0])\n",
    "# # X.orientation * np.array([0,0,2])\n",
    "# R = X.orientation       # Rotation matrix\n",
    "# accel = np.array([0,0,-1]) + R * np.array([0,0,5])\n",
    "# accel"
   ]
  },
  {
   "cell_type": "code",
   "execution_count": 7,
   "id": "1026a446",
   "metadata": {},
   "outputs": [],
   "source": [
    "# g = p.g\n",
    "# m = p.mass\n",
    "# u1 = 4\n",
    "# u2 = np.array([1,1,1])\n",
    "\n",
    "# I = p.inertia\n",
    "# M = u2\n",
    "# w = X.angular_velocity\n",
    "# I_inv = np.linalg.inv(I)\n",
    "# complicated_sum = M - np.cross(w, np.matmul(I,w))\n",
    "# angular_accel = np.matmul(I_inv, complicated_sum)\n",
    "\n",
    "# angular_accel"
   ]
  },
  {
   "cell_type": "markdown",
   "id": "a844a288-3d14-4248-8e06-2fcb7e26d3a1",
   "metadata": {},
   "source": [
    "### (1) Building a 3D quadrotor model\n",
    "In this second notebook, we'll build a full 3-dimensional quadrotor model! In this one I will be leaving you guys alone a lot more, but as discussed in the lectures, there is a lot of overlap with the 2D model we made last week, so feel free to copy your implementation from there and simply expand it here!\n",
    "\n",
    "**When implementing things like this, I recommend working in steps!** For example, in your 2D model, you may find it's much better to _first_ model the accelerations; see whether that works and only _then_ move on to the angular acceleration. If you do both at the same time, finding bugs (and everyone introduces bugs once in a while!) is much harder. **Keep testing as you write code!**\n",
    "\n",
    "#### Recommended steps\n",
    "- Copy your 2D quadrotor model (**DONE**)\n",
    "- Work your way down the same way we did on the 3D model \n",
    "    - Implement the mixing matrix (i.e. compute u1 and u2 from the rotor rates) (**DONE**)\n",
    "    - Modify the `state_derivative` functions to ta|ke a vector for u2 rather than a float (because now of course that's 3 numbers!) (**DONE**)\n",
    "    - Modify the `accel` formulation in your model to 3D (see equations in slides)  (**DONE**)\n",
    "    - Modify the `angular_accel` formulation in your model to 3D (see equations in slides)(**DONE**)"
   ]
  },
  {
   "cell_type": "code",
   "execution_count": 10,
   "id": "9613eae0-23b8-449c-8820-546dc443e480",
   "metadata": {},
   "outputs": [],
   "source": [
    "# NOTE(roy) feel free to copy large parts from your previous assignment!\n",
    "class FullQuadrotorDynamics(QuadrotorDynamicsBase):\n",
    "    def __init__(self) -> None:     ## DONE!\n",
    "        # NOTE(roy): I advise you to scroll through dynamics.py and see what the __init__\n",
    "        # function in the base class does!\n",
    "        ## Sets times steps =.01, and state to the origin\n",
    "        super().__init__()\n",
    "\n",
    "    @staticmethod\n",
    "    def rotor_thrust_model(rotor_rates: np.ndarray) -> np.ndarray:      ## DONE!\n",
    "        # NOTE(roy): Implement the simple rotor trust model we discussed in the slides\n",
    "        # To see how complex this can get, see for example: https://arxiv.org/pdf/1601.00733.pdf\n",
    "\n",
    "        # NOTE(elijah) To turn rotor_rates into thrust we use F = k_T w^2      \n",
    "        # k_T = Thrust coefficient\n",
    "        # w = Rotor rate\n",
    "        k_T = p.k_thrust\n",
    "        w =  rotor_rates\n",
    "        F = k_T * np.square(w)\n",
    "        return F\n",
    "\n",
    "    def step(self, t: float, input: QuadrotorCommands) -> QuadrotorState:   ## WORK IN PROGRESS\n",
    "        # NOTE(roy) Use only the first two rotor rates!\n",
    "        Forces = FullQuadrotorDynamics.rotor_thrust_model(input.rotor_rates)\n",
    "        L = p.arm_length\n",
    "        k_t = p.k_thrust\n",
    "        k_m = p.k_torque\n",
    "        K = k_m/k_t\n",
    "\n",
    "\n",
    "        mixing_matrix = np.array([\n",
    "            [1,1,1,1],\n",
    "            [0,L,0,-L],\n",
    "            [-L,0,L,0],\n",
    "            [K,-K,K,-K]\n",
    "        ])\n",
    "        U = mixing_matrix @ Forces\n",
    "\n",
    "        # NOTE(roy) Implement the thrust/torque calculation we discussed in the slides\n",
    "        \n",
    "        u1 = U[0]           # Total Thrust\n",
    "        u2 = U[1:4]         # Total Torque\n",
    "        # raise NotImplementedError(\"Thrust/torque calculation not implemented!\")\n",
    "\n",
    "        # NOTE(roy) this local function is a wrapper around the class state_derivative function         ## DONE!!\n",
    "        # all this does is convert the our state dataclass from/into a vector that the scipy\n",
    "        # integration solver can work with. See dynamics.py for the definition of these\n",
    "        # from/to state vector functions.\n",
    "        def state_derivative(t: float, state: np.ndarray) -> np.ndarray:\n",
    "            return FullQuadrotorDynamics.state_derivative(\n",
    "                QuadrotorState.from_state_vector(state),\n",
    "                u1,\n",
    "                u2,\n",
    "            ).to_state_vector()\n",
    "\n",
    "        state_vector = self.state.to_state_vector()\n",
    "\n",
    "\n",
    "        # raise NotImplementedError(\"Use the scipy function solve_ivp to integrate to the next timestep\")\n",
    "         # NOTE(roy) solution = sp.integrate.solve_ivp(....\n",
    "        \n",
    "        solution = sp.integrate.solve_ivp(\n",
    "            fun= state_derivative,\n",
    "            t_span = (0, self.dt),\n",
    "            y0 = state_vector,\n",
    "        )\n",
    "\n",
    "        self.state = QuadrotorState.from_state_vector(solution['y'][:, -1])\n",
    "        return self.state\n",
    "\n",
    "    @staticmethod\n",
    "    def state_derivative(state: QuadrotorState, u1: float, u2: np.ndarray) -> QuadrotorState:        ## WORK IN PROGRESS\n",
    "        # raise NotImplementedError(\"State derivative not implemented!\")\n",
    "\n",
    "        # NOTE(roy) compute the relevant values here! Note that we're using only the x- and z dimensions for translation\n",
    "        # and only the y-axis for rotation for this planar model.\n",
    "        # accel = np.zeros(3)\n",
    "        g = p.g\n",
    "        m = p.mass\n",
    "\n",
    "        R = state.orientation     # Rotation matrix\n",
    "        accel = np.array([0,0,-g]) +  R * np.array([0,0,u1/m]) # np.array([0,0,-g]) +  R * np.array([0,0,u1/m])\n",
    "\n",
    "        I = p.inertia\n",
    "        M = u2\n",
    "        w = state.angular_velocity\n",
    "        I_inv = np.linalg.inv(I)\n",
    "        complicated_sum = M - np.cross(w, np.matmul(I,w))\n",
    "        angular_accel = np.matmul(I_inv, complicated_sum)\n",
    "\n",
    "        # NOTE(roy) this might look a little confusing at first glance, but we're populating DERIVATIVES\n",
    "        # of the state here! So position -> velocity, velocity -> acceleration, etc...\n",
    "        # If you can think of a more readable way to do this (e.g. defining a QuadrotorStateDerivative class)\n",
    "        # feel free to open a pull-request into the upstream repository!\n",
    "        state_derivative = QuadrotorState(\n",
    "            position=state.velocity,\n",
    "            velocity=accel,\n",
    "            orientation=dRot3(state.orientation, state.angular_velocity),\n",
    "            angular_velocity=angular_accel,\n",
    "        )\n",
    "\n",
    "        return state_derivative"
   ]
  },
  {
   "cell_type": "markdown",
   "id": "35d7e761-f83a-44f4-a720-50281c6034ef",
   "metadata": {},
   "source": [
    "This code is largely the same, I set the rotor rates to 300 rad/s now, you should see it be very close to hovering with these numbers! (As I hope you found in the previous assignment as well with 600rad/s!)"
   ]
  },
  {
   "cell_type": "code",
   "execution_count": 16,
   "id": "5a074462",
   "metadata": {},
   "outputs": [
    {
     "name": "stdout",
     "output_type": "stream",
     "text": [
      "Thrust Coefficient 1.8795926921113627e-05\n",
      "Upward Force: 6.766533691600906\n",
      "Gravity Force: 13.2585908\n",
      "hover_rate: 419.9395843340998\n"
     ]
    }
   ],
   "source": [
    "print(\"Thrust Coefficient\", p.k_thrust)\n",
    "print(\"Upward Force:\", 4 * p.k_thrust* 300**2 )\n",
    "print(\"Gravity Force:\", p.mass * p.g)\n",
    "hover_rate = np.sqrt(   (p.mass * p.g) / (4 * p.k_thrust))\n",
    "print(\"hover_rate:\", hover_rate)"
   ]
  },
  {
   "cell_type": "code",
   "execution_count": 17,
   "id": "dfb09fed-c7e5-423a-8144-7594bad2072d",
   "metadata": {},
   "outputs": [],
   "source": [
    "class EmptyTrajectory(TrajectoryBase):\n",
    "    def eval(self, *args):\n",
    "        return TrajectoryState(0.0, position=np.zeros(3))  # Trajectory not yet important\n",
    "\n",
    "class EmptyController(ControllerBase):\n",
    "    def step(self, *args) -> QuadrotorCommands:\n",
    "        return QuadrotorCommands(hover_rate * np.ones(4))"
   ]
  },
  {
   "cell_type": "code",
   "execution_count": 18,
   "id": "7cd5ed88-09a6-479e-8379-4b54d0cd4049",
   "metadata": {},
   "outputs": [],
   "source": [
    "from quadrotor.simulator import SimulatorBase, SimulatorState\n",
    "\n",
    "# This might be slow to run the first time!\n",
    "from quadrotor.renderer import animate_k3d, animate_matplotlib"
   ]
  },
  {
   "cell_type": "code",
   "execution_count": 71,
   "id": "9abccb88-a090-44c0-b9b2-dacc8e28a042",
   "metadata": {},
   "outputs": [],
   "source": [
    "def run_and_render(initial_state: QuadrotorState, t_total: int = 0.5):\n",
    "    sim = SimulatorBase(\n",
    "        dt=0.01,\n",
    "        dynamics=FullQuadrotorDynamics(),\n",
    "        controller=ForwardsBackwards(),\n",
    "        trajectory=EmptyTrajectory(),\n",
    "        initial_state=initial_state,\n",
    "        t_total=t_total,\n",
    "    )\n",
    "    \n",
    "    # Run the simulator\n",
    "    output = sim.simulate()\n",
    "\n",
    "    # K3D renderer\n",
    "    plot = animate_k3d(output)\n",
    "    \n",
    "    plot.display()\n",
    "    plot.start_auto_play()"
   ]
  },
  {
   "cell_type": "code",
   "execution_count": 72,
   "id": "02c2b0c4-d334-43da-a1ec-c78cb4a5bf5a",
   "metadata": {},
   "outputs": [
    {
     "data": {
      "application/vnd.jupyter.widget-view+json": {
       "model_id": "58ac4faa31c6411cb59dce20a8fb2bea",
       "version_major": 2,
       "version_minor": 0
      },
      "text/plain": [
       "Output()"
      ]
     },
     "metadata": {},
     "output_type": "display_data"
    }
   ],
   "source": [
    "# NOTE(roy) play with this variable and see what happens!\n",
    "initial_state = QuadrotorState(\n",
    "    position=np.zeros(3),\n",
    "    velocity=np.array([0, 0, 0]),\n",
    "    orientation=Rot3.from_yaw_pitch_roll(0, 0, 0),\n",
    "    angular_velocity=np.array([0,0,0]),\n",
    ")\n",
    "\n",
    "run_and_render(initial_state, 5)"
   ]
  },
  {
   "cell_type": "markdown",
   "id": "b600cdcd-d6d8-44d1-8f3a-07d9eecfb3f3",
   "metadata": {},
   "source": [
    "### Does the simulated model make any sense?\n",
    "If all is well, you should see the quadrotor roughly hovering with those 429 rad/s rotor rates\n",
    "\n",
    "Now try some experiments for yourself and describe whether the behavior is as expected or whether there is anything wrong with your model, ideas to try:\n",
    "- Can you make the vehicle yaw by setting a combination of rotor rates?\n",
    "- Can you make the vehicle move forward/backward left/right by correctly lowering two rotor rates each time?\n",
    "- What happens if you're in hover (i.e. the 429rad/s) and disable one rotor?"
   ]
  },
  {
   "cell_type": "code",
   "execution_count": 73,
   "id": "febc66a6",
   "metadata": {},
   "outputs": [
    {
     "name": "stdout",
     "output_type": "stream",
     "text": [
      "419.9383936849505\n",
      "[420.93839368 418.93839368 420.93839368 418.93839368]\n",
      "[419.93958433 419.93958433 419.93958433 419.93958433]\n"
     ]
    }
   ],
   "source": [
    "# (0) Getting the vehicle to hover\n",
    "hover_rate = np.sqrt((p.mass * p.g) / (4 * p.k_thrust))\n",
    "HOVER_RATES = np.ones(4) * hover_rate\n",
    "\n",
    "# (1) Getting the vehicle to yaw\n",
    "m = p.mass\n",
    "g = p.g \n",
    "k = p.k_thrust\n",
    "s = 1  # Difference between rotor rates\n",
    "r = ((m*g) / (4*k) - s**2)**(1/2)\n",
    "ROTOR_RATES = np.array([r + s, r - s, r + s, r -s])\n",
    "N_ROTOR_RATES = np.array([r-s, r+s, r-s, r+s])\n",
    "print(r)\n",
    "print(ROTOR_RATES)\n",
    "\n",
    "class YawController(ControllerBase):\n",
    "    def step(self, *args) -> QuadrotorCommands:\n",
    "        t = args[0]\n",
    "        if t // 3 < 1:\n",
    "            return QuadrotorCommands(ROTOR_RATES)\n",
    "        elif t // 3 < 3: \n",
    "            return QuadrotorCommands(N_ROTOR_RATES)\n",
    "        else: \n",
    "            return QuadrotorCommands(HOVER_RATES)\n",
    "        \n",
    "\n",
    "# (2) Get vehicle to move forward and thne backwards\n",
    "m = .001\n",
    "FORWARD_RATES = np.array([r - s, r - s, r , r ])\n",
    "BACKWARD_RATES = (1+m) * np.array([r + s, r + s , r , r ])\n",
    "class ForwardsBackwards(ControllerBase):\n",
    "    def step(self, *args) -> QuadrotorCommands:\n",
    "        t = args[0]\n",
    "        if t < .5:\n",
    "            return QuadrotorCommands(FORWARD_RATES)\n",
    "        elif t < 2 : \n",
    "            return QuadrotorCommands(BACKWARD_RATES)\n",
    "        elif t < 3: \n",
    "            return QuadrotorCommands(1.1* FORWARD_RATES)\n",
    "        else: \n",
    "            return QuadrotorCommands(FORWARD_RATES)\n",
    "        \n",
    "\n",
    "# (3) Hover and disable one rotor\n",
    "\n",
    "class CatastropheController(ControllerBase):\n",
    "\n",
    "    def step(self, *args) -> QuadrotorCommands:\n",
    "        t = args[0]\n",
    "        if t < 2.5:\n",
    "            return QuadrotorCommands(HOVER_RATES)\n",
    "        else:\n",
    "            DISABLED_RATES = HOVER_RATES.copy()\n",
    "            DISABLED_RATES[3] -= .2*t\n",
    "            return QuadrotorCommands(DISABLED_RATES)\n",
    "        \n",
    "print(HOVER_RATES)"
   ]
  },
  {
   "cell_type": "markdown",
   "id": "6822a926-51a3-4df3-a9bb-5b451fd6db6e",
   "metadata": {},
   "source": [
    "### Commit your updated notebook to your fork!"
   ]
  },
  {
   "cell_type": "markdown",
   "id": "5d754ce0",
   "metadata": {},
   "source": []
  }
 ],
 "metadata": {
  "kernelspec": {
   "display_name": "Python 3 (ipykernel)",
   "language": "python",
   "name": "python3"
  },
  "language_info": {
   "codemirror_mode": {
    "name": "ipython",
    "version": 3
   },
   "file_extension": ".py",
   "mimetype": "text/x-python",
   "name": "python",
   "nbconvert_exporter": "python",
   "pygments_lexer": "ipython3",
   "version": "3.9.13"
  }
 },
 "nbformat": 4,
 "nbformat_minor": 5
}
